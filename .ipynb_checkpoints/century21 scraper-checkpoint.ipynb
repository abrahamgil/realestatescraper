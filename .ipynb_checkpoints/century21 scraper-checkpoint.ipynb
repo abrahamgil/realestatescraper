{
 "cells": [
  {
   "cell_type": "code",
   "execution_count": 2,
   "metadata": {},
   "outputs": [
    {
     "data": {
      "text/plain": [
       "'$725,000'"
      ]
     },
     "execution_count": 2,
     "metadata": {},
     "output_type": "execute_result"
    }
   ],
   "source": [
    "import requests\n",
    "from bs4 import BeautifulSoup\n",
    "\n",
    "r=requests.get(\"http://www.pyclass.com/real-estate/rock-springs-wy/LCWYROCKSPRINGS/\", headers={'User-agent': 'Mozilla/5.0 (X11; Ubuntu; Linux x86_64; rv:61.0) Gecko/20100101 Firefox/61.0'})\n",
    "c=r.content\n",
    "\n",
    "\n",
    "soup=BeautifulSoup(c,\"html.parser\")\n",
    "\n",
    "all=soup.find_all(\"div\",{\"class\":\"propertyRow\"})\n",
    "\n",
    "all[0].find(\"h4\",{\"class\":\"propPrice\"}).text.replace(\"\\n\",\"\").replace(\" \",\"\")"
   ]
  },
  {
   "cell_type": "code",
   "execution_count": 28,
   "metadata": {},
   "outputs": [],
   "source": [
    "l=[]\n",
    "for item in all:\n",
    "    d={}\n",
    "    d[\"Address\"]=item.find_all(\"span\",{\"class\":\"propAddressCollapse\"})[0].text\n",
    "    d[\"Locality\"]=item.find_all(\"span\",{\"class\":\"propAddressCollapse\"})[1].text\n",
    "    d[\"Price\"]=item.find(\"h4\",{\"class\":\"propPrice\"}).text.replace(\"\\n\",\"\").replace(\" \",\"\")\n",
    "    try:\n",
    "        d[\"Beds\"]=item.find(\"span\",{\"class\":\"infoBed\"}).find(\"b\").text\n",
    "    except:\n",
    "        d[\"Beds\"]=None\n",
    "   \n",
    "    try:\n",
    "        d[\"Area\"]=item.find(\"span\",{\"class\":\"infoValueFullBath\"}).find(\"b\").text\n",
    "    except:\n",
    "        d[\"Area\"]=None\n",
    "        \n",
    "    try:\n",
    "        d[\"Full Baths\"]=item.find(\"span\",{\"class\":\"infoSqFt\"}).find(\"b\").text\n",
    "    except:\n",
    "        d[\"Full Baths\"]=None\n",
    "\n",
    "    try:\n",
    "        d[\"Half Baths\"]=item.find(\"span\",{\"class\":\"infoValueHalfBath\"}).find(\"b\").text\n",
    "    except:\n",
    "        d[\"Half Baths\"]=None\n",
    "        \n",
    "    for column_group in item.find_all(\"div\",{\"class\":\"columnGroup\"}):\n",
    "        #print(column_group)\n",
    "        for feature_group, feature_name in zip(column_group.find_all(\"span\",{\"class\":\"featureGroup\"}), column_group.find_all(\"span\",{\"class\":\"featureName\"})):\n",
    "            if \"Lot Size\" in feature_group.text:\n",
    "                d[\"Lot Size\"]=feature_name.text\n",
    "    l.append(d)\n"
   ]
  },
  {
   "cell_type": "code",
   "execution_count": 33,
   "metadata": {},
   "outputs": [
    {
     "data": {
      "text/plain": [
       "[{'Address': '0 Gateway',\n",
       "  'Locality': 'Rock Springs, WY 82901',\n",
       "  'Price': '$725,000',\n",
       "  'Beds': None,\n",
       "  'Area': None,\n",
       "  'Full Baths': None,\n",
       "  'Half Baths': None},\n",
       " {'Address': '1003 Winchester Blvd.',\n",
       "  'Locality': 'Rock Springs, WY 82901',\n",
       "  'Price': '$452,900',\n",
       "  'Beds': '4',\n",
       "  'Area': '4',\n",
       "  'Full Baths': None,\n",
       "  'Half Baths': None,\n",
       "  'Lot Size': '0.21 Acres'},\n",
       " {'Address': '600 Talladega',\n",
       "  'Locality': 'Rock Springs, WY 82901',\n",
       "  'Price': '$396,900',\n",
       "  'Beds': '5',\n",
       "  'Area': '3',\n",
       "  'Full Baths': '3,154',\n",
       "  'Half Baths': None},\n",
       " {'Address': '3239 Spearhead Way',\n",
       "  'Locality': 'Rock Springs, WY 82901',\n",
       "  'Price': '$389,900',\n",
       "  'Beds': '4',\n",
       "  'Area': '3',\n",
       "  'Full Baths': '3,076',\n",
       "  'Half Baths': '1',\n",
       "  'Lot Size': 'Under 1/2 Acre, '},\n",
       " {'Address': '522 Emerald Street',\n",
       "  'Locality': 'Rock Springs, WY 82901',\n",
       "  'Price': '$254,000',\n",
       "  'Beds': '3',\n",
       "  'Area': '3',\n",
       "  'Full Baths': '1,172',\n",
       "  'Half Baths': None,\n",
       "  'Lot Size': 'Under 1/2 Acre, '},\n",
       " {'Address': \"1302 Veteran's Drive\",\n",
       "  'Locality': 'Rock Springs, WY 82901',\n",
       "  'Price': '$252,900',\n",
       "  'Beds': '4',\n",
       "  'Area': '2',\n",
       "  'Full Baths': '1,932',\n",
       "  'Half Baths': None,\n",
       "  'Lot Size': '0.27 Acres'},\n",
       " {'Address': '1021 Cypress Cir',\n",
       "  'Locality': 'Rock Springs, WY 82901',\n",
       "  'Price': '$210,000',\n",
       "  'Beds': '4',\n",
       "  'Area': '3',\n",
       "  'Full Baths': '1,676',\n",
       "  'Half Baths': None,\n",
       "  'Lot Size': 'Under 1/2 Acre, '},\n",
       " {'Address': '913 Madison Dr',\n",
       "  'Locality': 'Rock Springs, WY 82901',\n",
       "  'Price': '$209,000',\n",
       "  'Beds': '3',\n",
       "  'Area': '2',\n",
       "  'Full Baths': '1,344',\n",
       "  'Half Baths': None,\n",
       "  'Lot Size': 'Under 1/2 Acre, '},\n",
       " {'Address': '1344 Teton Street',\n",
       "  'Locality': 'Rock Springs, WY 82901',\n",
       "  'Price': '$199,900',\n",
       "  'Beds': '3',\n",
       "  'Area': '2',\n",
       "  'Full Baths': '1,920',\n",
       "  'Half Baths': None,\n",
       "  'Lot Size': 'Under 1/2 Acre, '},\n",
       " {'Address': '4 Minnies Lane',\n",
       "  'Locality': 'Rock Springs, WY 82901',\n",
       "  'Price': '$196,900',\n",
       "  'Beds': '3',\n",
       "  'Area': '2',\n",
       "  'Full Baths': '1,664',\n",
       "  'Half Baths': None,\n",
       "  'Lot Size': '2.02 Acres'}]"
      ]
     },
     "execution_count": 33,
     "metadata": {},
     "output_type": "execute_result"
    }
   ],
   "source": [
    "l"
   ]
  },
  {
   "cell_type": "code",
   "execution_count": 36,
   "metadata": {},
   "outputs": [],
   "source": [
    "import pandas\n",
    "df=pandas.DataFrame(l)"
   ]
  },
  {
   "cell_type": "code",
   "execution_count": null,
   "metadata": {},
   "outputs": [],
   "source": []
  },
  {
   "cell_type": "code",
   "execution_count": 39,
   "metadata": {},
   "outputs": [],
   "source": [
    "df.to_csv(\"Output.csv\")"
   ]
  }
 ],
 "metadata": {
  "kernelspec": {
   "display_name": "Python 3",
   "language": "python",
   "name": "python3"
  },
  "language_info": {
   "codemirror_mode": {
    "name": "ipython",
    "version": 3
   },
   "file_extension": ".py",
   "mimetype": "text/x-python",
   "name": "python",
   "nbconvert_exporter": "python",
   "pygments_lexer": "ipython3",
   "version": "3.8.0"
  }
 },
 "nbformat": 4,
 "nbformat_minor": 4
}
